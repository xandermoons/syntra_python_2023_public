{
 "cells": [
  {
   "cell_type": "code",
   "execution_count": 11,
   "id": "09919f5f-b035-4b92-8324-36fe33c85b7a",
   "metadata": {},
   "outputs": [
    {
     "name": "stdin",
     "output_type": "stream",
     "text": [
      "Geef uw naam op: bla\n"
     ]
    },
    {
     "name": "stdout",
     "output_type": "stream",
     "text": [
      "bla\n"
     ]
    }
   ],
   "source": [
    "naam = input('Geef uw naam op:')\n",
    "print(naam)"
   ]
  },
  {
   "cell_type": "code",
   "execution_count": 24,
   "id": "82c5163c-5b1d-4266-997c-8d307dd41060",
   "metadata": {},
   "outputs": [
    {
     "name": "stdin",
     "output_type": "stream",
     "text": [
      "Getal: 13\n"
     ]
    },
    {
     "name": "stdout",
     "output_type": "stream",
     "text": [
      "136\n"
     ]
    }
   ],
   "source": [
    "a = input('Getal:')\n",
    "a = int(a)\n",
    "b = 6\n",
    "print(f'{a}' + f'{b}')"
   ]
  },
  {
   "cell_type": "code",
   "execution_count": 21,
   "id": "a4587700-aafa-4968-af2f-75362a36a63b",
   "metadata": {},
   "outputs": [
    {
     "name": "stdout",
     "output_type": "stream",
     "text": [
      "Dit is commentaar\n",
      "\n",
      "dit ook\n"
     ]
    }
   ],
   "source": [
    "comment=\"\"\"Dit is commentaar\n",
    "\n",
    "dit ook\"\"\"\n",
    "print(comment)"
   ]
  },
  {
   "cell_type": "code",
   "execution_count": 22,
   "id": "cb509f08-83ec-490a-ab5d-075d8c294740",
   "metadata": {},
   "outputs": [
    {
     "name": "stdout",
     "output_type": "stream",
     "text": [
      "Dit is commentaar\n",
      "\n",
      "dit ook\n"
     ]
    }
   ],
   "source": [
    "comment='''Dit is commentaar\n",
    "\n",
    "dit ook'''\n",
    "print(comment)"
   ]
  },
  {
   "cell_type": "code",
   "execution_count": 32,
   "id": "d03b81ed-37ba-4e94-8251-3effebfacde9",
   "metadata": {},
   "outputs": [
    {
     "name": "stdout",
     "output_type": "stream",
     "text": [
      "5\n",
      "6\n",
      "7\n",
      "8\n",
      "9\n",
      "9\n",
      "10\n",
      "11\n",
      "12\n",
      "13\n"
     ]
    }
   ],
   "source": [
    "for i in range(5):\n",
    "    i +=5\n",
    "    print(i)\n",
    "for y in range(9,14):\n",
    "    print(y)\n",
    "    "
   ]
  },
  {
   "cell_type": "code",
   "execution_count": 33,
   "id": "9a454866-7636-4ed0-a8c4-2df6f041798b",
   "metadata": {},
   "outputs": [
    {
     "data": {
      "text/plain": [
       "1.75"
      ]
     },
     "execution_count": 33,
     "metadata": {},
     "output_type": "execute_result"
    }
   ],
   "source": [
    "7/4"
   ]
  },
  {
   "cell_type": "code",
   "execution_count": 34,
   "id": "58f4f80b-5085-4bc8-a8e6-c831743596f7",
   "metadata": {},
   "outputs": [
    {
     "data": {
      "text/plain": [
       "1"
      ]
     },
     "execution_count": 34,
     "metadata": {},
     "output_type": "execute_result"
    }
   ],
   "source": [
    "7//4"
   ]
  },
  {
   "cell_type": "code",
   "execution_count": 35,
   "id": "e9da26d4-e5d8-4b40-ad52-8808436005f3",
   "metadata": {},
   "outputs": [
    {
     "data": {
      "text/plain": [
       "3"
      ]
     },
     "execution_count": 35,
     "metadata": {},
     "output_type": "execute_result"
    }
   ],
   "source": [
    "7%4"
   ]
  },
  {
   "cell_type": "code",
   "execution_count": 39,
   "id": "e33333be-5d00-4a00-86d6-8318ef50fd05",
   "metadata": {},
   "outputs": [
    {
     "name": "stdout",
     "output_type": "stream",
     "text": [
      "9\n"
     ]
    }
   ],
   "source": [
    "# functions\n",
    "\n",
    "def add(a,b):\n",
    "    result = a + b\n",
    "    print(result)\n",
    "add(4,5)"
   ]
  },
  {
   "cell_type": "code",
   "execution_count": 44,
   "id": "666e2846-d9f1-413c-b637-2152c622aadf",
   "metadata": {},
   "outputs": [
    {
     "name": "stdout",
     "output_type": "stream",
     "text": [
      "0.4\n",
      "0.5\n",
      "15.0\n"
     ]
    }
   ],
   "source": [
    "#default values and how to use\n",
    "\n",
    "def devide(a=2,b=4):\n",
    "    result = a/b\n",
    "    print(result)\n",
    "devide(b=5)\n",
    "devide()\n",
    "devide(60)"
   ]
  },
  {
   "cell_type": "code",
   "execution_count": 47,
   "id": "3199bcb2-c39b-4d0f-ab34-cdf013a16e67",
   "metadata": {},
   "outputs": [
    {
     "name": "stdout",
     "output_type": "stream",
     "text": [
      "1 is oneven\n",
      "2 is even\n",
      "3 is oneven\n",
      "4 is even\n",
      "5 is oneven\n",
      "6 is even\n",
      "7 is oneven\n",
      "8 is even\n",
      "9 is oneven\n",
      "10 is even\n",
      "11 is oneven\n",
      "12 is even\n",
      "13 is oneven\n",
      "14 is even\n",
      "15 is oneven\n",
      "16 is even\n",
      "17 is oneven\n",
      "18 is even\n",
      "19 is oneven\n",
      "20 is even\n"
     ]
    }
   ],
   "source": [
    "for i in range(1,21):\n",
    "    if i%2 == 1:\n",
    "        print(f'{i} is oneven')\n",
    "    else:\n",
    "        print(f'{i} is even')\n",
    "    "
   ]
  },
  {
   "cell_type": "code",
   "execution_count": 49,
   "id": "2ef9f153-ea3e-43c9-a444-a2bbf2b9964a",
   "metadata": {},
   "outputs": [
    {
     "name": "stdout",
     "output_type": "stream",
     "text": [
      "0\n",
      "1\n",
      "2\n",
      "3\n",
      "4\n",
      "5\n",
      "6\n",
      "7\n",
      "8\n",
      "9\n",
      "10\n",
      "11\n",
      "12\n",
      "13\n",
      "14\n",
      "15\n",
      "16\n",
      "17\n",
      "18\n",
      "19\n",
      "20\n"
     ]
    }
   ],
   "source": [
    "i = 0\n",
    "while i <= 20:\n",
    "    print(i)\n",
    "    i+=1"
   ]
  },
  {
   "cell_type": "code",
   "execution_count": 52,
   "id": "9a1b152f-a8f0-442f-a15e-7da3779a6787",
   "metadata": {},
   "outputs": [
    {
     "name": "stdout",
     "output_type": "stream",
     "text": [
      "5\n",
      "6\n",
      "7\n",
      "8\n",
      "9\n"
     ]
    }
   ],
   "source": [
    "# lists\n",
    "\n",
    "lijst = [5,6,7,8,9]\n",
    "for i in lijst:\n",
    "    print(i)"
   ]
  },
  {
   "cell_type": "code",
   "execution_count": 59,
   "id": "d1e33ece-ecc5-4421-90f7-c2021ee6aefb",
   "metadata": {},
   "outputs": [
    {
     "name": "stdout",
     "output_type": "stream",
     "text": [
      "0\n",
      "1\n",
      "2\n",
      "3\n",
      "4\n",
      "[5, 6, 6, 8, 9]\n"
     ]
    }
   ],
   "source": [
    "lijst = [5,6,7,8,9]\n",
    "for i in range(len(lijst)):\n",
    "    print(i)\n",
    "lijst[2] = 6\n",
    "print(lijst)"
   ]
  },
  {
   "cell_type": "code",
   "execution_count": 58,
   "id": "7e4c15ab-397d-459b-959f-14f918e8455f",
   "metadata": {},
   "outputs": [
    {
     "name": "stdout",
     "output_type": "stream",
     "text": [
      "(1, 2, 3)\n"
     ]
    },
    {
     "ename": "TypeError",
     "evalue": "'tuple' object does not support item assignment",
     "output_type": "error",
     "traceback": [
      "\u001b[1;31m---------------------------------------------------------------------------\u001b[0m",
      "\u001b[1;31mTypeError\u001b[0m                                 Traceback (most recent call last)",
      "Cell \u001b[1;32mIn[58], line 5\u001b[0m\n\u001b[0;32m      3\u001b[0m my_tuple \u001b[38;5;241m=\u001b[39m (\u001b[38;5;241m1\u001b[39m,\u001b[38;5;241m2\u001b[39m,\u001b[38;5;241m3\u001b[39m)\n\u001b[0;32m      4\u001b[0m \u001b[38;5;28mprint\u001b[39m(my_tuple)\n\u001b[1;32m----> 5\u001b[0m \u001b[43mmy_tuple\u001b[49m\u001b[43m[\u001b[49m\u001b[38;5;241;43m0\u001b[39;49m\u001b[43m]\u001b[49m \u001b[38;5;241m=\u001b[39m \u001b[38;5;241m6\u001b[39m\n\u001b[0;32m      6\u001b[0m \u001b[38;5;28mprint\u001b[39m(my_tuple)\n",
      "\u001b[1;31mTypeError\u001b[0m: 'tuple' object does not support item assignment"
     ]
    }
   ],
   "source": [
    "# tuple\n",
    "\n",
    "my_tuple = (1,2,3)\n",
    "print(my_tuple)\n",
    "my_tuple[0] = 6\n",
    "print(my_tuple)"
   ]
  },
  {
   "cell_type": "code",
   "execution_count": 60,
   "id": "1a51841b-edb1-49c2-8558-ab606efbb934",
   "metadata": {},
   "outputs": [
    {
     "name": "stdout",
     "output_type": "stream",
     "text": [
      "2\n"
     ]
    }
   ],
   "source": [
    "my_tuple = (1,2,3)\n",
    "\n",
    "getal = my_tuple[1]\n",
    "print(getal)"
   ]
  },
  {
   "cell_type": "code",
   "execution_count": 61,
   "id": "39285614-d4fb-435a-8302-58f9af245953",
   "metadata": {},
   "outputs": [
    {
     "ename": "TypeError",
     "evalue": "'tuple' object is not callable",
     "output_type": "error",
     "traceback": [
      "\u001b[1;31m---------------------------------------------------------------------------\u001b[0m",
      "\u001b[1;31mTypeError\u001b[0m                                 Traceback (most recent call last)",
      "Cell \u001b[1;32mIn[61], line 3\u001b[0m\n\u001b[0;32m      1\u001b[0m my_tuple \u001b[38;5;241m=\u001b[39m (\u001b[38;5;241m1\u001b[39m,\u001b[38;5;241m2\u001b[39m,\u001b[38;5;241m3\u001b[39m)\n\u001b[1;32m----> 3\u001b[0m getal \u001b[38;5;241m=\u001b[39m \u001b[43mmy_tuple\u001b[49m\u001b[43m(\u001b[49m\u001b[38;5;241;43m1\u001b[39;49m\u001b[43m)\u001b[49m\n\u001b[0;32m      4\u001b[0m \u001b[38;5;28mprint\u001b[39m(getal)\n",
      "\u001b[1;31mTypeError\u001b[0m: 'tuple' object is not callable"
     ]
    }
   ],
   "source": [
    "my_tuple = (1,2,3)\n",
    "\n",
    "getal = my_tuple(1)\n",
    "print(getal)"
   ]
  },
  {
   "cell_type": "code",
   "execution_count": 65,
   "id": "c9a10fdd-e5f0-4a7e-addf-68fdd91ed36d",
   "metadata": {},
   "outputs": [
    {
     "name": "stdout",
     "output_type": "stream",
     "text": [
      "120\n",
      "15\n"
     ]
    }
   ],
   "source": [
    "#functie kan meerdere items retourneren\n",
    "\n",
    "def multiply_add(a,b,c):\n",
    "    multi = a*b*c\n",
    "    add = a+b+c\n",
    "    return multi, add\n",
    "product, som = multiply_add(4,5,6)\n",
    "print(product)\n",
    "print(som)"
   ]
  },
  {
   "cell_type": "code",
   "execution_count": 66,
   "id": "bd92e24a-a109-4381-b95a-429ea9e37d78",
   "metadata": {},
   "outputs": [
    {
     "name": "stdout",
     "output_type": "stream",
     "text": [
      "1\n",
      "2\n",
      "3\n",
      "4\n",
      "5\n"
     ]
    }
   ],
   "source": [
    "numbers = [1,2,3,4,5,6]\n",
    "\n",
    "for n in numbers:\n",
    "    if n > 5:\n",
    "        break\n",
    "    print(n)"
   ]
  },
  {
   "cell_type": "code",
   "execution_count": 69,
   "id": "518f2466-5243-4316-b5d1-a3a39c49a90b",
   "metadata": {
    "collapsed": true,
    "jupyter": {
     "outputs_hidden": true
    }
   },
   "outputs": [
    {
     "name": "stdout",
     "output_type": "stream",
     "text": [
      "1\n",
      "3\n",
      "5\n",
      "7\n",
      "9\n",
      "11\n",
      "13\n",
      "15\n",
      "17\n",
      "19\n",
      "21\n",
      "23\n",
      "25\n",
      "27\n",
      "29\n",
      "31\n",
      "33\n",
      "35\n",
      "37\n",
      "39\n",
      "41\n",
      "43\n",
      "45\n",
      "47\n",
      "49\n",
      "51\n",
      "53\n",
      "55\n",
      "57\n",
      "59\n",
      "61\n",
      "63\n",
      "65\n",
      "67\n",
      "69\n",
      "71\n",
      "73\n",
      "75\n",
      "77\n",
      "79\n",
      "81\n",
      "83\n",
      "85\n",
      "87\n",
      "89\n",
      "91\n",
      "93\n",
      "95\n",
      "97\n",
      "99\n"
     ]
    }
   ],
   "source": [
    "n = 0\n",
    "while n < 100:\n",
    "    n += 1\n",
    "    if n%2 == 0:\n",
    "        continue\n",
    "    print(n)\n",
    "    "
   ]
  },
  {
   "cell_type": "code",
   "execution_count": 70,
   "id": "f687a5da-2e74-40b6-bc6c-7b6f63e5b4c8",
   "metadata": {},
   "outputs": [
    {
     "name": "stdout",
     "output_type": "stream",
     "text": [
      "[1, 2, 3, 4, 5, 6]\n"
     ]
    }
   ],
   "source": [
    "list1 = [1,2,3]\n",
    "list2 = [4,5,6]\n",
    "for n in list2:\n",
    "    list1.append(n)\n",
    "print(list1)"
   ]
  },
  {
   "cell_type": "code",
   "execution_count": 78,
   "id": "943c3899-a5cf-48fc-9f88-0fb1cc3c5c25",
   "metadata": {},
   "outputs": [
    {
     "name": "stdout",
     "output_type": "stream",
     "text": [
      "['x', 'n', 'd', 'r']\n"
     ]
    }
   ],
   "source": [
    "name_list = ['x','a','n','d','e','r']\n",
    "\n",
    "short_name = name_list[:1] + name_list[2:4] + list(name_list[-1])\n",
    "\n",
    "print(short_name)"
   ]
  },
  {
   "cell_type": "code",
   "execution_count": 92,
   "id": "7d2e2831-78ef-4139-af58-5f3b53f4a2a3",
   "metadata": {},
   "outputs": [
    {
     "name": "stdout",
     "output_type": "stream",
     "text": [
      "5\n"
     ]
    }
   ],
   "source": [
    "import random as rd\n",
    "my_rand_number = rd.randint(2,6)\n",
    "print(my_rand_number)"
   ]
  },
  {
   "cell_type": "code",
   "execution_count": 91,
   "id": "0658bc63-2b8a-4f72-941a-0f4aed7f0f04",
   "metadata": {},
   "outputs": [
    {
     "name": "stdout",
     "output_type": "stream",
     "text": [
      "0.6895790010694124\n",
      "1\n",
      "0.6896\n"
     ]
    }
   ],
   "source": [
    "import random\n",
    "n = random.random()\n",
    "print(n)\n",
    "print(round(n))\n",
    "print(round(n,4))"
   ]
  },
  {
   "cell_type": "code",
   "execution_count": 93,
   "id": "7c7987ba-fffb-4e3e-a2fa-0f43b22bb6a3",
   "metadata": {},
   "outputs": [],
   "source": [
    "from datetime import datetime as dt"
   ]
  },
  {
   "cell_type": "code",
   "execution_count": 94,
   "id": "edddde40-2561-47fb-afa2-4dd9eb81f5e1",
   "metadata": {},
   "outputs": [],
   "source": [
    "now = dt.now()"
   ]
  },
  {
   "cell_type": "code",
   "execution_count": 99,
   "id": "94bab7c6-92db-4a63-9cdc-9b4e78257c43",
   "metadata": {},
   "outputs": [
    {
     "name": "stdout",
     "output_type": "stream",
     "text": [
      "2023-09-26 14:23:47.883650\n"
     ]
    }
   ],
   "source": [
    "print(now)"
   ]
  },
  {
   "cell_type": "code",
   "execution_count": 119,
   "id": "604d7157-48b1-4db7-84c5-70dd79f77663",
   "metadata": {},
   "outputs": [],
   "source": [
    "class Person:\n",
    "    def __init__(self, name, age):\n",
    "        self.name = name\n",
    "        self.age = age\n",
    "    def greet(self):\n",
    "        return f'{self.name} says Hello!'"
   ]
  },
  {
   "cell_type": "code",
   "execution_count": 120,
   "id": "106b5ede-96d0-4c20-b9c8-4a04728f5d8f",
   "metadata": {},
   "outputs": [],
   "source": [
    "xander = Person('Xander', 25)"
   ]
  },
  {
   "cell_type": "code",
   "execution_count": 121,
   "id": "2a6ffada-a1ae-4dcf-8fca-b6d1181abfec",
   "metadata": {},
   "outputs": [
    {
     "data": {
      "text/plain": [
       "'Xander'"
      ]
     },
     "execution_count": 121,
     "metadata": {},
     "output_type": "execute_result"
    }
   ],
   "source": [
    "xander.name"
   ]
  },
  {
   "cell_type": "code",
   "execution_count": 122,
   "id": "25d8caf9-9ad9-4ae9-b6d0-9a48f2fb89b8",
   "metadata": {},
   "outputs": [
    {
     "data": {
      "text/plain": [
       "25"
      ]
     },
     "execution_count": 122,
     "metadata": {},
     "output_type": "execute_result"
    }
   ],
   "source": [
    "xander.age"
   ]
  },
  {
   "cell_type": "code",
   "execution_count": 123,
   "id": "0eb95278-3cd3-405c-91b0-bb514af5bcf3",
   "metadata": {},
   "outputs": [
    {
     "data": {
      "text/plain": [
       "'Xander says Hello!'"
      ]
     },
     "execution_count": 123,
     "metadata": {},
     "output_type": "execute_result"
    }
   ],
   "source": [
    "xander.greet()"
   ]
  },
  {
   "cell_type": "code",
   "execution_count": 125,
   "id": "c278013a-c12d-4b6b-86f9-c5e7635b9038",
   "metadata": {},
   "outputs": [],
   "source": [
    "class Student(Person):\n",
    "    def study(self):\n",
    "        return f'{self.name} is studying!'"
   ]
  },
  {
   "cell_type": "code",
   "execution_count": 126,
   "id": "2ead0a04-b717-47a9-9ee9-f49b0e5df286",
   "metadata": {},
   "outputs": [
    {
     "name": "stdout",
     "output_type": "stream",
     "text": [
      "Xander is studying!\n"
     ]
    }
   ],
   "source": [
    "this_student = Student('Xander', 25)\n",
    "print(this_student.study())"
   ]
  },
  {
   "cell_type": "code",
   "execution_count": 127,
   "id": "4ea88217-713b-4ad7-a957-099a27771700",
   "metadata": {},
   "outputs": [],
   "source": [
    "# oefeningen\n"
   ]
  },
  {
   "cell_type": "code",
   "execution_count": 128,
   "id": "77441007-414f-42f1-aae0-1b82817ae7a5",
   "metadata": {},
   "outputs": [],
   "source": [
    "zin = 'dit is een zin'"
   ]
  },
  {
   "cell_type": "code",
   "execution_count": 130,
   "id": "2dde6820-122a-49dd-9a7e-adfaa2b8d274",
   "metadata": {},
   "outputs": [
    {
     "name": "stdout",
     "output_type": "stream",
     "text": [
      "14\n"
     ]
    }
   ],
   "source": [
    "#Tel het aantal karakters in de zin\n",
    "aantal = 0\n",
    "for char in zin:\n",
    "    aantal += 1\n",
    "print(aantal)"
   ]
  },
  {
   "cell_type": "code",
   "execution_count": 131,
   "id": "84b500bf-b6d4-47e3-b21b-a3ce5489886a",
   "metadata": {},
   "outputs": [],
   "source": [
    "# maak een eenvoudig raadspel waarbij je een input van een getal tussen nul en 10 vraag. Vergelijk dit met een random nummer. Geef feedback aan de gebruiker"
   ]
  },
  {
   "cell_type": "code",
   "execution_count": 139,
   "id": "a055e636-67f8-4959-a858-168c1d947ae1",
   "metadata": {},
   "outputs": [
    {
     "ename": "TypeError",
     "evalue": "'str' object is not callable",
     "output_type": "error",
     "traceback": [
      "\u001b[1;31m---------------------------------------------------------------------------\u001b[0m",
      "\u001b[1;31mTypeError\u001b[0m                                 Traceback (most recent call last)",
      "Cell \u001b[1;32mIn[139], line 5\u001b[0m\n\u001b[0;32m      1\u001b[0m \u001b[38;5;28;01mimport\u001b[39;00m \u001b[38;5;21;01mrandom\u001b[39;00m \u001b[38;5;28;01mas\u001b[39;00m \u001b[38;5;21;01mrd\u001b[39;00m\n\u001b[0;32m      3\u001b[0m getal \u001b[38;5;241m=\u001b[39m rd\u001b[38;5;241m.\u001b[39mrandint(\u001b[38;5;241m1\u001b[39m,\u001b[38;5;241m10\u001b[39m)\n\u001b[1;32m----> 5\u001b[0m n \u001b[38;5;241m=\u001b[39m \u001b[38;5;28;43minput\u001b[39;49m\u001b[43m(\u001b[49m\u001b[38;5;124;43m'\u001b[39;49m\u001b[38;5;124;43mraad het getal tussen 1 en 10\u001b[39;49m\u001b[38;5;124;43m'\u001b[39;49m\u001b[43m)\u001b[49m\n\u001b[0;32m      6\u001b[0m n \u001b[38;5;241m=\u001b[39m \u001b[38;5;28mint\u001b[39m(n)\n\u001b[0;32m      7\u001b[0m \u001b[38;5;28;01mwhile\u001b[39;00m \u001b[38;5;28minput\u001b[39m \u001b[38;5;241m!=\u001b[39m getal:\n",
      "\u001b[1;31mTypeError\u001b[0m: 'str' object is not callable"
     ]
    }
   ],
   "source": [
    "import random as rd\n",
    "\n",
    "getal = rd.randint(1,10)\n",
    "\n",
    "n = input('raad het getal tussen 1 en 10')\n",
    "n = int(n)\n",
    "while input != getal:\n",
    "    print('getal is niet juist. Probeer opnieuw')\n",
    "    n = input('geef een ander getal in')\n",
    "    n = int(n)\n",
    "print('Getal is juist!')"
   ]
  },
  {
   "cell_type": "code",
   "execution_count": 140,
   "id": "14629643-3e15-41f5-8972-f705b3cce605",
   "metadata": {},
   "outputs": [
    {
     "ename": "TypeError",
     "evalue": "'str' object is not callable",
     "output_type": "error",
     "traceback": [
      "\u001b[1;31m---------------------------------------------------------------------------\u001b[0m",
      "\u001b[1;31mTypeError\u001b[0m                                 Traceback (most recent call last)",
      "Cell \u001b[1;32mIn[140], line 5\u001b[0m\n\u001b[0;32m      1\u001b[0m \u001b[38;5;28;01mimport\u001b[39;00m \u001b[38;5;21;01mrandom\u001b[39;00m \u001b[38;5;28;01mas\u001b[39;00m \u001b[38;5;21;01mrd\u001b[39;00m\n\u001b[0;32m      3\u001b[0m getal \u001b[38;5;241m=\u001b[39m rd\u001b[38;5;241m.\u001b[39mrandint(\u001b[38;5;241m1\u001b[39m,\u001b[38;5;241m10\u001b[39m)\n\u001b[1;32m----> 5\u001b[0m n \u001b[38;5;241m=\u001b[39m \u001b[38;5;28;43minput\u001b[39;49m\u001b[43m(\u001b[49m\u001b[38;5;124;43m'\u001b[39;49m\u001b[38;5;124;43mraad het getal tussen 1 en 10\u001b[39;49m\u001b[38;5;124;43m'\u001b[39;49m\u001b[43m)\u001b[49m\n\u001b[0;32m      6\u001b[0m n \u001b[38;5;241m=\u001b[39m \u001b[38;5;28mint\u001b[39m(n)\n\u001b[0;32m      7\u001b[0m \u001b[38;5;28;01mwhile\u001b[39;00m \u001b[38;5;28minput\u001b[39m \u001b[38;5;241m!=\u001b[39m getal:\n",
      "\u001b[1;31mTypeError\u001b[0m: 'str' object is not callable"
     ]
    }
   ],
   "source": [
    "import random as rd\n",
    "\n",
    "getal = rd.randint(1,10)\n",
    "\n",
    "n = input('raad het getal tussen 1 en 10')\n",
    "n = int(n)\n",
    "while input != getal:\n",
    "    print('getal is niet juist. Probeer opnieuw')\n",
    "    n = input('geef een ander getal in')\n",
    "    n = int(n)\n",
    "print('Getal is juist!')"
   ]
  },
  {
   "cell_type": "code",
   "execution_count": 141,
   "id": "d2b2d1c7-c03e-4241-a0dd-74cdd987b340",
   "metadata": {},
   "outputs": [
    {
     "ename": "TypeError",
     "evalue": "'str' object is not callable",
     "output_type": "error",
     "traceback": [
      "\u001b[1;31m---------------------------------------------------------------------------\u001b[0m",
      "\u001b[1;31mTypeError\u001b[0m                                 Traceback (most recent call last)",
      "Cell \u001b[1;32mIn[141], line 5\u001b[0m\n\u001b[0;32m      1\u001b[0m \u001b[38;5;28;01mimport\u001b[39;00m \u001b[38;5;21;01mrandom\u001b[39;00m \u001b[38;5;28;01mas\u001b[39;00m \u001b[38;5;21;01mrd\u001b[39;00m\n\u001b[0;32m      3\u001b[0m getal \u001b[38;5;241m=\u001b[39m rd\u001b[38;5;241m.\u001b[39mrandint(\u001b[38;5;241m1\u001b[39m,\u001b[38;5;241m10\u001b[39m)\n\u001b[1;32m----> 5\u001b[0m n \u001b[38;5;241m=\u001b[39m \u001b[38;5;28;43minput\u001b[39;49m\u001b[43m(\u001b[49m\u001b[38;5;124;43m\"\u001b[39;49m\u001b[38;5;124;43mraad het getal tussen 1 en 10\u001b[39;49m\u001b[38;5;124;43m'\u001b[39;49m\u001b[38;5;124;43m\"\u001b[39;49m\u001b[43m)\u001b[49m\n\u001b[0;32m      6\u001b[0m n \u001b[38;5;241m=\u001b[39m \u001b[38;5;28mint\u001b[39m(n)\n\u001b[0;32m      7\u001b[0m \u001b[38;5;28;01mwhile\u001b[39;00m \u001b[38;5;28minput\u001b[39m \u001b[38;5;241m!=\u001b[39m getal:\n",
      "\u001b[1;31mTypeError\u001b[0m: 'str' object is not callable"
     ]
    }
   ],
   "source": [
    "import random as rd\n",
    "\n",
    "getal = rd.randint(1,10)\n",
    "\n",
    "n = input(\"raad het getal tussen 1 en 10'\")\n",
    "n = int(n)\n",
    "while input != getal:\n",
    "    print('getal is niet juist. Probeer opnieuw')\n",
    "    n = input(\"geef een ander getal in\")\n",
    "    n = int(n)\n",
    "print('Getal is juist!')"
   ]
  },
  {
   "cell_type": "code",
   "execution_count": 1,
   "id": "370e9284-b2fa-4044-895d-73dc6888df79",
   "metadata": {},
   "outputs": [],
   "source": [
    "# Maak via een if - elif - else statement een toepassing om iemand aan de hand van zijn leeftijd in een bepaalde categorie te stoppen\n",
    "# Leeftijd < 2 is baby\n",
    "# 2-4 kleuter\n",
    "# 4-11 kind\n",
    "# 11-18 tiener\n",
    "# 18 volwassen"
   ]
  },
  {
   "cell_type": "code",
   "execution_count": null,
   "id": "ca1a2f35-ef72-42da-915e-0de74380c92e",
   "metadata": {},
   "outputs": [],
   "source": []
  }
 ],
 "metadata": {
  "kernelspec": {
   "display_name": "Python 3 (ipykernel)",
   "language": "python",
   "name": "python3"
  },
  "language_info": {
   "codemirror_mode": {
    "name": "ipython",
    "version": 3
   },
   "file_extension": ".py",
   "mimetype": "text/x-python",
   "name": "python",
   "nbconvert_exporter": "python",
   "pygments_lexer": "ipython3",
   "version": "3.11.5"
  }
 },
 "nbformat": 4,
 "nbformat_minor": 5
}
